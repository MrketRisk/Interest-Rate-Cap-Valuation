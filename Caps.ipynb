{
 "cells": [
  {
   "cell_type": "markdown",
   "id": "a6a956d0",
   "metadata": {},
   "source": [
    "### Cap Valuation using Black76\n",
    "We will price a Swaption using Black76 model.\\\n",
    "Let us consider that there is a 1x2 swaption. The swap has semi annual frequency. Assume a notional of $1M.\\\n",
    "At Time T0, the yield curve is as below:\n",
    "\n",
    "Tenor 0.5 = 5.00% \\\n",
    "Tenor 1.0 = 6.00% \\\n",
    "Tenor 1.5 = 6.75% \\\n",
    "Tenor 2.0 = 7.25% \\\n",
    "Tenor 2.5 = 7.50% \\\n",
    "Tenor 3.0 = 7.60% \n",
    "\n",
    "Calculate the Cap price using Black76 Model assuming a constant vol of 2% and a fixed rate of 8%"
   ]
  },
  {
   "cell_type": "code",
   "execution_count": 78,
   "id": "74b1ea57",
   "metadata": {},
   "outputs": [],
   "source": [
    "import numpy as np\n",
    "import pandas as pd\n",
    "from scipy.stats import norm"
   ]
  },
  {
   "cell_type": "code",
   "execution_count": 79,
   "id": "9c27030c",
   "metadata": {},
   "outputs": [],
   "source": [
    "def CapCalculator(YieldMatrix,Alpha,Beta,Tau):\n",
    "    #Find the Index of the first and last reset date\n",
    "    startResetIndex = YieldMatrix['Tenor'].tolist().index(Alpha+Tau)-1\n",
    "    EndResetIndex = YieldMatrix['Tenor'].tolist().index(Beta)\n",
    "\n",
    "    YieldMatrix[['F']] = 0 #Forward Rate Column\n",
    "    YieldMatrix[['P']] = 0 #Zero Coupon Bond Value\n",
    "\n",
    "    YieldMatrix[['d1']] = 0 #d1 of Bl76 Model\n",
    "    YieldMatrix[['d2']] = 0 #d2 of Bl76 Model\n",
    "\n",
    "    YieldMatrix[['C']] = 0 #Price of the Caplet as per Bl76 Model\n",
    "\n",
    "    for i in range(startResetIndex,EndResetIndex,):\n",
    "        R2T2 = ((YieldMatrix.loc[i+1,'Yield'] * YieldMatrix.loc[i+1,'Tenor'])) \n",
    "        R1T1 = ((YieldMatrix.loc[i,'Yield'] * YieldMatrix.loc[i,'Tenor']))\n",
    "        T2MinusT1 = (YieldMatrix.loc[i+1,'Tenor']) - (YieldMatrix.loc[i,'Tenor'])\n",
    "        YieldMatrix.loc[i,'F'] = (R2T2 - R1T1)/T2MinusT1 #Forward Rate\n",
    "    \n",
    "        YieldMatrix.loc[i,'P'] = np.exp(-YieldMatrix.loc[i+1,'Yield'] * YieldMatrix.loc[i+1,'Tenor']) #Zero Coupon Bond Value\n",
    "    \n",
    "        YieldMatrix.loc[i,'d1'] = (np.log(YieldMatrix.loc[i,'F']/k) + (0.5 * Vol**2) * YieldMatrix.loc[i,'Tenor'])/(Vol * np.sqrt(YieldMatrix.loc[i,'Tenor']))\n",
    "        YieldMatrix.loc[i,'d2'] = YieldMatrix.loc[i,'d1'] - Vol * np.sqrt(YieldMatrix.loc[i,'Tenor'])\n",
    "        \n",
    "        #Price of the Caplet as per Bl76 Model\n",
    "        YieldMatrix.loc[i,'C'] = N * Tau * YieldMatrix.loc[i,'P'] * (YieldMatrix.loc[i,'F'] * norm.cdf(YieldMatrix.loc[i,'d1']) - k * norm.cdf(YieldMatrix.loc[i,'d2']))\n",
    "    \n",
    "        CapValue = np.sum(YieldMatrix[['C']])\n",
    "    \n",
    "    return(CapValue)"
   ]
  },
  {
   "cell_type": "code",
   "execution_count": 80,
   "id": "0f775eff",
   "metadata": {},
   "outputs": [
    {
     "name": "stdout",
     "output_type": "stream",
     "text": [
      "C    7105.365883\n",
      "dtype: float64\n"
     ]
    }
   ],
   "source": [
    "Alpha = 1.0\n",
    "Beta = 3.0\n",
    "Vol = 0.02\n",
    "Tau = 0.5 #Semiannual frequency\n",
    "N = 1000000 #$1 million Notional\n",
    "f = (Beta-Alpha)/Tau #Number of swap payments\n",
    "k = 0.08 #Assume Fixed Rate is 8%\n",
    "\n",
    "YieldMatrix = pd.DataFrame([[0.5,0.05],[1.0,0.06],[1.5,0.0675],[2.0,0.0725],[2.5,0.075],[3.0,0.076]])\n",
    "YieldMatrix = YieldMatrix.rename(columns = {0:'Tenor',1:'Yield'})\n",
    "\n",
    "CapValue = CapCalculator(YieldMatrix,Alpha,Beta,Tau)\n",
    "print(CapValue)"
   ]
  }
 ],
 "metadata": {
  "kernelspec": {
   "display_name": "Python 3 (ipykernel)",
   "language": "python",
   "name": "python3"
  },
  "language_info": {
   "codemirror_mode": {
    "name": "ipython",
    "version": 3
   },
   "file_extension": ".py",
   "mimetype": "text/x-python",
   "name": "python",
   "nbconvert_exporter": "python",
   "pygments_lexer": "ipython3",
   "version": "3.10.9"
  }
 },
 "nbformat": 4,
 "nbformat_minor": 5
}
